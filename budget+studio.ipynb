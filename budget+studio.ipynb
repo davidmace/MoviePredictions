{
 "metadata": {
  "name": "",
  "signature": "sha256:6d8450c8f2b81c539cacc0bf36069d342255606c848eed4377101345f0490519"
 },
 "nbformat": 3,
 "nbformat_minor": 0,
 "worksheets": [
  {
   "cells": [
    {
     "cell_type": "code",
     "collapsed": false,
     "input": [
      "import numpy as np\n",
      "import pandas as pd\n",
      "import scipy\n",
      "import matplotlib.pyplot as plt\n",
      "from scipy.optimize import minimize, fmin_bfgs\n",
      "%matplotlib inline"
     ],
     "language": "python",
     "metadata": {},
     "outputs": [],
     "prompt_number": 1
    },
    {
     "cell_type": "code",
     "collapsed": false,
     "input": [
      "# load data\n",
      "movie_data = pd.io.excel.read_excel( open('moviedata_all.xlsx','r') )"
     ],
     "language": "python",
     "metadata": {},
     "outputs": [],
     "prompt_number": 10
    },
    {
     "cell_type": "code",
     "collapsed": false,
     "input": [
      "# shuffle data\n",
      "movie_data = movie_data.reindex(np.random.permutation(movie_data.index))"
     ],
     "language": "python",
     "metadata": {},
     "outputs": [],
     "prompt_number": 11
    },
    {
     "cell_type": "code",
     "collapsed": false,
     "input": [
      "studio=np.array(movie_data['studio'])        \n",
      "s=set(studio)\n",
      "studio_ids=dict([])\n",
      "i=0\n",
      "for item in s :\n",
      "    studio_ids[str(item)]=i; i+=1"
     ],
     "language": "python",
     "metadata": {},
     "outputs": [],
     "prompt_number": 12
    },
    {
     "cell_type": "code",
     "collapsed": false,
     "input": [
      "len(budget)"
     ],
     "language": "python",
     "metadata": {},
     "outputs": [
      {
       "metadata": {},
       "output_type": "pyout",
       "prompt_number": 13,
       "text": [
        "3100"
       ]
      }
     ],
     "prompt_number": 13
    },
    {
     "cell_type": "code",
     "collapsed": false,
     "input": [
      "#prediction form = avg_budget_dow+b_studio+b_genre\n",
      "def train_func(thetas, budget, studio, gross, Lambda):\n",
      "    studio_weights = [ thetas[ studio_ids[str(s)] ] for s in studio ]\n",
      "    budget_weight = thetas[61]\n",
      "    #print np.sum( (gross-budget_weight*budget-studio_weights)**2 ) + Lambda*np.sum(thetas**2)\n",
      "    return np.sum( (gross-budget_weight*budget-studio_weights)**2 ) + Lambda*np.sum(thetas**2)\n",
      "\n",
      "def error(thetas, budget, studio, gross):\n",
      "    studio_weights = [ thetas[ studio_ids[str(s)] ] for s in studio ]\n",
      "    budget_weight = thetas[61]\n",
      "    return np.sqrt( np.sum( (gross-budget_weight*budget-studio_weights)**2 ) )\n",
      "\n",
      "best_lambda=0.1; best_err=1e10\n",
      "lambdas=[0.1]#,1,10,100,1e3]\n",
      "for Lambda in lambdas :\n",
      "    train_err=0; test_err=0\n",
      "    \n",
      "    #cross validation for each lambda\n",
      "    for i in range(1) :\n",
      "        movie_data = movie_data.reindex(np.random.permutation(movie_data.index))\n",
      "        \n",
      "        budget = np.array(movie_data['budget'])[:3100]\n",
      "        budget_avg=np.average(budget); budget_std=np.std(budget)\n",
      "        budget=(budget-budget_avg)/budget_std\n",
      "        gross = np.array(movie_data['total gross'])[:3100]\n",
      "        gross_avg=np.average(gross); gross_std=np.std(gross)\n",
      "        gross=(gross-np.average(gross))/np.std(gross)\n",
      "        studio=np.array(movie_data['studio'])[:3100]\n",
      "        \n",
      "        train_budget=budget[:2500]; val_budget=budget[2500:]\n",
      "        train_gross=gross[:2500]; val_gross=gross[2500:]\n",
      "        train_studio=studio[:2500]; val_studio=studio[2500:]\n",
      "        \n",
      "        #train by gradient descent\n",
      "        initial_values = np.array([0]*62)\n",
      "        #learned_weights = scipy.optimize.fmin_bfgs(train_func, initial_values, maxiter=400, args=(train_budget, train_studio, train_gross, Lambda))\n",
      "        learnres = scipy.optimize.minimize(train_func, initial_values, method = 'Nelder-Mead',args=(train_budget, train_studio, train_gross, Lambda))\n",
      "        print learnres\n",
      "        learned_weights=learnres.x\n",
      "        \n",
      "        #compute error\n",
      "        train_err += error(learned_weights,train_budget,train_studio,train_gross)/len(train_gross)\n",
      "        test_err += error(learned_weights,val_budget,val_studio,val_gross)/len(val_gross)\n",
      "        \n",
      "    print Lambda, train_err, test_err\n",
      "    if test_err<best_err :\n",
      "        best_err=test_err; best_lambda=Lambda; best_weights=learned_weights\n",
      "print best_lambda"
     ],
     "language": "python",
     "metadata": {},
     "outputs": [
      {
       "output_type": "stream",
       "stream": "stdout",
       "text": [
        "  status: 1\n",
        "    nfev: 12400\n",
        " success: False\n",
        "     fun: 1165.0114296006241\n",
        "       x: array([-0.12095418, -0.03482142, -0.0291568 ,  0.15099841,  0.11837317,\n",
        "       -0.04319977,  0.20846049,  0.19398081, -0.11538326,  0.02944863,\n",
        "        0.17111504, -0.23036677,  0.11372706,  0.00781816, -0.05389763,\n",
        "        0.09448117,  0.23276201,  0.07787703,  0.04843012, -0.01235014,\n",
        "       -0.08589233,  0.05007766, -0.33639093,  0.16257356,  0.06582971,\n",
        "       -0.03977427, -0.3716059 , -0.14464698, -0.09345322, -0.06399087,\n",
        "       -0.01790964, -0.11743864,  0.25590218, -0.43652714, -0.11415191,\n",
        "        0.23925134,  0.01109505, -0.15964094, -0.08782166,  0.06200324,\n",
        "        0.17187134,  0.04361593,  0.02056745, -0.11239138, -0.03382331,\n",
        "        0.12425963,  0.08291722, -0.0568131 ,  0.08793885, -0.10370094,\n",
        "        0.12691165, -0.10391305, -0.11412398, -0.02729075,  0.04017391,\n",
        "       -0.05518329, -0.02051521,  0.00501655,  0.08771811, -0.04212163,\n",
        "       -0.09172162,  0.67097894])\n",
        " message: 'Maximum number of function evaluations has been exceeded.'\n",
        "     nit: 11494\n",
        "0.1 0.0136519509959 0.0322830622372\n",
        "0.1\n"
       ]
      }
     ],
     "prompt_number": 41
    },
    {
     "cell_type": "code",
     "collapsed": false,
     "input": [
      "# test results\n",
      "budget = np.array(movie_data['budget'])[3100:]\n",
      "budget=(budget-budget_avg)/budget_std\n",
      "gross = np.array(movie_data['total gross'])[3100:]\n",
      "gross=(gross-gross_avg)/gross_std\n",
      "studio=np.array(movie_data['studio'])[3100:]\n",
      "\n",
      "test_err = error(best_weights,budget,studio,gross)/len(gross)\n",
      "print test_err"
     ],
     "language": "python",
     "metadata": {},
     "outputs": [
      {
       "output_type": "stream",
       "stream": "stdout",
       "text": [
        "0.0299024990321\n"
       ]
      }
     ],
     "prompt_number": 37
    },
    {
     "cell_type": "code",
     "collapsed": false,
     "input": [],
     "language": "python",
     "metadata": {},
     "outputs": []
    },
    {
     "cell_type": "code",
     "collapsed": false,
     "input": [],
     "language": "python",
     "metadata": {},
     "outputs": []
    },
    {
     "cell_type": "code",
     "collapsed": false,
     "input": [
      "#prediction form = avg_budget_dow+b_studio+b_genre\n",
      "def train_func(thetas, budget, studio, gross, Lambda):\n",
      "    return np.sum( (gross-thetas[0]*budget)**2 ) + Lambda*np.sum(thetas**2)\n",
      "\n",
      "def error(thetas, budget, studio, gross):\n",
      "    return np.sqrt( np.sum( (gross-thetas[0]*budget)**2 ) )\n",
      "\n",
      "best_lambda=0.1; best_err=1e10\n",
      "lambdas=[0.001,0.01,0.1,1,10,100,1e3,1e4]\n",
      "for Lambda in lambdas :\n",
      "    train_data = movie_data.ix[:3100]\n",
      "    train_err=0; test_err=0\n",
      "    \n",
      "    #cross validation for each lambda\n",
      "    for i in range(1) :\n",
      "        train_data = train_data.reindex(np.random.permutation(train_data.index))\n",
      "        \n",
      "        budget = np.array(train_data['budget'])\n",
      "        budget_avg=np.average(budget); budget_std=np.std(budget)\n",
      "        budget=(budget-budget_avg)/budget_std\n",
      "        gross = np.array(train_data['total gross'])\n",
      "        gross_avg=np.average(gross); gross_std=np.std(gross)\n",
      "        gross=(gross-np.average(gross))/np.std(gross)\n",
      "        studio=np.array(train_data['studio'])\n",
      "        \n",
      "        train_budget=budget[:2500]; val_budget=budget[2500:]; \n",
      "        train_gross=gross[:2500]; val_gross=gross[2500:]; \n",
      "        train_studio=studio[:2500]; val_studio=studio[2500:]; \n",
      "        \n",
      "        #train by gradient descent\n",
      "        initial_values = np.array([1])\n",
      "        learned_weights = scipy.optimize.fmin_bfgs(train_func, initial_values, maxiter=400, args=(train_budget, train_studio, train_gross, Lambda))\n",
      "\n",
      "        #compute error\n",
      "        train_err += error(learned_weights,train_budget,train_studio,train_gross)/len(train_gross)\n",
      "        test_err += error(learned_weights,val_budget,val_studio,val_gross)/len(val_gross)\n",
      "        \n",
      "    print Lambda, train_err, test_err\n",
      "    if test_err<best_err :\n",
      "        best_err=test_err; best_lambda=Lambda; best_weights=learned_weights\n",
      "print best_lambda"
     ],
     "language": "python",
     "metadata": {},
     "outputs": [
      {
       "output_type": "stream",
       "stream": "stdout",
       "text": [
        "Optimization terminated successfully.\n",
        "         Current function value: 567.333630\n",
        "         Iterations: 2\n",
        "         Function evaluations: 12\n",
        "         Gradient evaluations: 4\n",
        "0.001 0.0198489627291 nan\n",
        "Optimization terminated successfully.\n",
        "         Current function value: 567.338375\n",
        "         Iterations: 3\n",
        "         Function evaluations: 15\n",
        "         Gradient evaluations: 5\n",
        "0.01 0.0198489627298 nan\n",
        "Optimization terminated successfully.\n",
        "         Current function value: 567.385821\n",
        "         Iterations: 2\n",
        "         Function evaluations: 12\n",
        "         Gradient evaluations: 4\n",
        "0.1 0.0198489628059 nan\n",
        "Optimization terminated successfully.\n",
        "         Current function value: 567.859886\n",
        "         Iterations: 2\n",
        "         Function evaluations: 12\n",
        "         Gradient evaluations: 4\n",
        "1 0.0198489704022 nan\n",
        "Optimization terminated successfully.\n",
        "         Current function value: 572.561755\n",
        "         Iterations: 2\n",
        "         Function evaluations: 12\n",
        "         Gradient evaluations: 4\n",
        "10 0.0198497186332 nan\n",
        "Optimization terminated successfully.\n",
        "         Current function value: 615.999787\n",
        "         Iterations: 3\n",
        "         Function evaluations: 15\n",
        "         Gradient evaluations: 5\n",
        "100 0.0199143425218 nan\n",
        "Optimization terminated successfully.\n",
        "         Current function value: 854.908965\n",
        "         Iterations: 3\n",
        "         Function evaluations: 15\n",
        "         Gradient evaluations: 5\n",
        "1000.0 0.0220171872307 nan\n",
        "Optimization terminated successfully.\n",
        "         Current function value: 1132.214261\n",
        "         Iterations: 2\n",
        "         Function evaluations: 12\n",
        "         Gradient evaluations: 4\n",
        "10000.0 0.0272805803212 nan\n",
        "0.1\n"
       ]
      }
     ],
     "prompt_number": 8
    },
    {
     "cell_type": "code",
     "collapsed": false,
     "input": [],
     "language": "python",
     "metadata": {},
     "outputs": []
    },
    {
     "cell_type": "code",
     "collapsed": false,
     "input": [
      "# linear regression\n",
      "def train_func(thetas, budget, studio, gross, Lambda):\n",
      "    return np.sum( (gross-thetas[0]*budget)**2 ) + Lambda*np.sum(thetas**2)\n",
      "\n",
      "def error(thetas, budget, studio, gross):\n",
      "    return np.sqrt( np.sum( (gross-thetas[0]*budget)**2 ) )\n",
      "\n",
      "movie_data = movie_data.reindex(np.random.permutation(movie_data.index))\n",
      "\n",
      "budget = np.array(movie_data['budget'])[:3100]\n",
      "budget_avg=np.average(budget); budget_std=np.std(budget)\n",
      "budget=(budget-budget_avg)/budget_std\n",
      "gross = np.array(movie_data['total gross'])[:3100]\n",
      "gross_avg=np.average(gross); gross_std=np.std(gross)\n",
      "gross=(gross-gross_avg)/gross_std\n",
      "studio=np.array(movie_data['studio'])[:3100]\n",
      "\n",
      "train_budget=budget[:2500]; val_budget=budget[2500:]\n",
      "train_gross=gross[:2500]; val_gross=gross[2500:]\n",
      "train_studio=studio[:2500]; val_studio=studio[2500:]\n",
      "\n",
      "coeff = np.transpose([train_budget])\n",
      "((m), _, _, _) = np.linalg.lstsq(coeff, train_gross)\n",
      "\n",
      "#compute error\n",
      "train_err = error(np.array([m]),train_budget,train_studio,train_gross)/len(train_gross)\n",
      "val_err = error(np.array([m]),val_budget,val_studio,val_gross)/len(val_gross)\n",
      "\n",
      "print train_err, val_err"
     ],
     "language": "python",
     "metadata": {},
     "outputs": [
      {
       "output_type": "stream",
       "stream": "stdout",
       "text": [
        "0.0143577941363 0.0265197597392\n"
       ]
      }
     ],
     "prompt_number": 38
    },
    {
     "cell_type": "code",
     "collapsed": false,
     "input": [
      "len(val_gross)"
     ],
     "language": "python",
     "metadata": {},
     "outputs": [
      {
       "metadata": {},
       "output_type": "pyout",
       "prompt_number": 39,
       "text": [
        "600"
       ]
      }
     ],
     "prompt_number": 39
    },
    {
     "cell_type": "code",
     "collapsed": false,
     "input": [
      "# test results\n",
      "test_budget = np.array(movie_data['budget'])[3100:]\n",
      "test_budget=(test_budget-budget_avg)/budget_std\n",
      "test_gross = np.array(movie_data['total gross'])[3100:]\n",
      "test_gross=(test_gross-gross_avg)/gross_std\n",
      "test_studio=np.array(movie_data['studio'])[3100:]\n",
      "\n",
      "test_err = error(np.array([m]),test_budget,test_studio,test_gross)/len(test_gross)\n",
      "print test_err"
     ],
     "language": "python",
     "metadata": {},
     "outputs": [
      {
       "output_type": "stream",
       "stream": "stdout",
       "text": [
        "0.0261101583364\n"
       ]
      }
     ],
     "prompt_number": 40
    },
    {
     "cell_type": "code",
     "collapsed": false,
     "input": [
      "initial_values = np.array([1])\n",
      "minimize(train_func, initial_values, method = 'Nelder-Mead',args=(train_budget, train_studio, train_gross, Lambda))"
     ],
     "language": "python",
     "metadata": {},
     "outputs": [
      {
       "ename": "NameError",
       "evalue": "name 'initial_values' is not defined",
       "output_type": "pyerr",
       "traceback": [
        "\u001b[0;31m---------------------------------------------------------------------------\u001b[0m\n\u001b[0;31mNameError\u001b[0m                                 Traceback (most recent call last)",
        "\u001b[0;32m<ipython-input-7-32fc48719007>\u001b[0m in \u001b[0;36m<module>\u001b[0;34m()\u001b[0m\n\u001b[0;32m----> 1\u001b[0;31m \u001b[0mminimize\u001b[0m\u001b[0;34m(\u001b[0m\u001b[0mtrain_func\u001b[0m\u001b[0;34m,\u001b[0m \u001b[0minitial_values\u001b[0m\u001b[0;34m,\u001b[0m \u001b[0mmethod\u001b[0m \u001b[0;34m=\u001b[0m \u001b[0;34m'Nelder-Mead'\u001b[0m\u001b[0;34m,\u001b[0m\u001b[0margs\u001b[0m\u001b[0;34m=\u001b[0m\u001b[0;34m(\u001b[0m\u001b[0mtrain_budget\u001b[0m\u001b[0;34m,\u001b[0m \u001b[0mtrain_studio\u001b[0m\u001b[0;34m,\u001b[0m \u001b[0mtrain_gross\u001b[0m\u001b[0;34m,\u001b[0m \u001b[0mLambda\u001b[0m\u001b[0;34m)\u001b[0m\u001b[0;34m)\u001b[0m\u001b[0;34m\u001b[0m\u001b[0m\n\u001b[0m",
        "\u001b[0;31mNameError\u001b[0m: name 'initial_values' is not defined"
       ]
      }
     ],
     "prompt_number": 7
    },
    {
     "cell_type": "code",
     "collapsed": false,
     "input": [],
     "language": "python",
     "metadata": {},
     "outputs": [],
     "prompt_number": 27
    },
    {
     "cell_type": "code",
     "collapsed": false,
     "input": [],
     "language": "python",
     "metadata": {},
     "outputs": []
    }
   ],
   "metadata": {}
  }
 ]
}